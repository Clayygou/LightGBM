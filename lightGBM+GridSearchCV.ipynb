{
 "cells": [
  {
   "cell_type": "code",
   "execution_count": 1,
   "metadata": {},
   "outputs": [
    {
     "name": "stderr",
     "output_type": "stream",
     "text": [
      "G:\\tools\\Anaconda\\lib\\site-packages\\sklearn\\cross_validation.py:41: DeprecationWarning: This module was deprecated in version 0.18 in favor of the model_selection module into which all the refactored classes and functions are moved. Also note that the interface of the new CV iterators are different from that of this module. This module will be removed in 0.20.\n",
      "  \"This module will be removed in 0.20.\", DeprecationWarning)\n",
      "G:\\tools\\Anaconda\\lib\\site-packages\\sklearn\\grid_search.py:42: DeprecationWarning: This module was deprecated in version 0.18 in favor of the model_selection module into which all the refactored classes and functions are moved. This module will be removed in 0.20.\n",
      "  DeprecationWarning)\n"
     ]
    }
   ],
   "source": [
    "import pandas as pd\n",
    "import lightgbm as lgb\n",
    "from sklearn.grid_search import GridSearchCV  # Perforing grid search\n",
    "from sklearn.model_selection import train_test_split"
   ]
  },
  {
   "cell_type": "code",
   "execution_count": 2,
   "metadata": {},
   "outputs": [
    {
     "name": "stdout",
     "output_type": "stream",
     "text": [
      "Loading data...\n"
     ]
    }
   ],
   "source": [
    "print('Loading data...')\n",
    "# load or create your dataset\n",
    "df_train = pd.read_csv('./data/regression.train', header=None, sep='\\t')\n",
    "df_test = pd.read_csv('./data/regression.test', header=None, sep='\\t')"
   ]
  },
  {
   "cell_type": "code",
   "execution_count": 3,
   "metadata": {},
   "outputs": [],
   "source": [
    "y_train = df_train[0]\n",
    "y_test = df_test[0]\n",
    "X_train = df_train.drop(0, axis=1)\n",
    "X_test = df_test.drop(0, axis=1)"
   ]
  },
  {
   "cell_type": "markdown",
   "metadata": {},
   "source": [
    "### 划分训练集和验证集"
   ]
  },
  {
   "cell_type": "code",
   "execution_count": 4,
   "metadata": {},
   "outputs": [],
   "source": [
    "train_x, valid_x, train_y, valid_y = train_test_split(X_train, y_train, test_size=0.2, random_state= 2019)   # 分训练集和验证集"
   ]
  },
  {
   "cell_type": "markdown",
   "metadata": {},
   "source": [
    "### Dataset类型数据"
   ]
  },
  {
   "cell_type": "code",
   "execution_count": 5,
   "metadata": {},
   "outputs": [],
   "source": [
    "train = lgb.Dataset(train_x, train_y)\n",
    "valid = lgb.Dataset(valid_x, valid_y, reference=train)"
   ]
  },
  {
   "cell_type": "markdown",
   "metadata": {},
   "source": [
    "### LightGBM调参过程"
   ]
  },
  {
   "cell_type": "markdown",
   "metadata": {},
   "source": [
    "1. n_estimators、lr\n",
    "2. max_depth和num_leaves\n",
    "3. min_data_in_leaf和max_bin in\n",
    "4. feature_fraction、bagging_fraction、bagging_freq\n",
    "5. lambda_l1和lambda_l2\n",
    "6.  min_split_gain \n",
    "7. 降低学习率，增加迭代次数，验证模型，防止过拟合"
   ]
  },
  {
   "cell_type": "markdown",
   "metadata": {},
   "source": [
    "### LightGBM 可以调节的参数"
   ]
  },
  {
   "cell_type": "code",
   "execution_count": 6,
   "metadata": {},
   "outputs": [
    {
     "data": {
      "text/plain": [
       "\"from lightgbm.sklearn import LGBMRegressor\\nlgb_model = LGBMRegressor( \\n    boosting_type='gbdt', \\n    num_leaves=30, \\n    max_depth=79, \\n    learning_rate=0.1, \\n    n_estimators=100,               #  1 \\n    max_bin=255, \\n    subsample_for_bin=50000, \\n    objective='regression', \\n    min_split_gain=0, \\n    min_child_weight=5, \\n    min_child_samples=10, \\n    subsample=1, \\n    subsample_freq=1, \\n    colsample_bytree=1, \\n    reg_alpha=0, \\n    reg_lambda=0, \\n    seed=0, \\n    nthread=-1, \\n    silent=True, \\n    huber_delta=1.0, \\n    gaussian_eta=1.0, \\n    fair_c=1.0, \\n    poisson_max_delta_step=0.7, \\n    drop_rate=0.1, \\n    skip_drop=0.5, \\n    max_drop=50, \\n    uniform_drop=False, \\n    xgboost_dart_mode=False,\\n    verbose_eval=100\\n)\""
      ]
     },
     "execution_count": 6,
     "metadata": {},
     "output_type": "execute_result"
    }
   ],
   "source": [
    "\"\"\"from lightgbm.sklearn import LGBMRegressor\n",
    "lgb_model = LGBMRegressor( \n",
    "    boosting_type='gbdt', \n",
    "    num_leaves=30, \n",
    "    max_depth=79, \n",
    "    learning_rate=0.1, \n",
    "    n_estimators=100,               #  1 \n",
    "    max_bin=255, \n",
    "    subsample_for_bin=50000, \n",
    "    objective='regression', \n",
    "    min_split_gain=0, \n",
    "    min_child_weight=5, \n",
    "    min_child_samples=10, \n",
    "    subsample=1, \n",
    "    subsample_freq=1, \n",
    "    colsample_bytree=1, \n",
    "    reg_alpha=0, \n",
    "    reg_lambda=0, \n",
    "    seed=0, \n",
    "    nthread=-1, \n",
    "    silent=True, \n",
    "    huber_delta=1.0, \n",
    "    gaussian_eta=1.0, \n",
    "    fair_c=1.0, \n",
    "    poisson_max_delta_step=0.7, \n",
    "    drop_rate=0.1, \n",
    "    skip_drop=0.5, \n",
    "    max_drop=50, \n",
    "    uniform_drop=False, \n",
    "    xgboost_dart_mode=False,\n",
    "    verbose_eval=100\n",
    ")\"\"\""
   ]
  },
  {
   "cell_type": "code",
   "execution_count": 7,
   "metadata": {},
   "outputs": [
    {
     "data": {
      "text/plain": [
       "{'bagging_fraction': 0.7,\n",
       " 'bagging_freq': 30,\n",
       " 'feature_fraction': 0.8,\n",
       " 'lambda_l1': 0.1,\n",
       " 'lambda_l2': 0.0,\n",
       " 'max_bin': 255,\n",
       " 'max_depth': 4,\n",
       " 'min_data_in_leaf': 81,\n",
       " 'min_split_gain': 0.1,\n",
       " 'num_leaves': 10}"
      ]
     },
     "execution_count": 7,
     "metadata": {},
     "output_type": "execute_result"
    }
   ],
   "source": [
    "{'bagging_fraction': 0.7,\n",
    " 'bagging_freq': 30,\n",
    " 'feature_fraction': 0.8,\n",
    " 'lambda_l1': 0.1,\n",
    " 'lambda_l2': 0.0,\n",
    " 'max_bin': 255,\n",
    " 'max_depth': 4,\n",
    " 'min_data_in_leaf': 81,\n",
    " 'min_split_gain': 0.1,\n",
    " 'num_leaves': 10}"
   ]
  },
  {
   "cell_type": "markdown",
   "metadata": {},
   "source": [
    "调参方向：处理过拟合（过拟合和准确率往往相反）\n",
    "\n",
    "使用较小的 max_bin\n",
    "\n",
    "使用较小的 num_leaves\n",
    "\n",
    "使用 min_data_in_leaf 和 min_sum_hessian_in_leaf\n",
    "\n",
    "通过设置 bagging_fraction 和 bagging_freq 来使用 bagging\n",
    "\n",
    "通过设置 feature_fraction <1来使用特征抽样\n",
    "\n",
    "使用更大的训练数据\n",
    "\n",
    "使用 lambda_l1, lambda_l2 和 min_gain_to_split 来使用正则\n",
    "\n",
    "尝试 max_depth 来避免生成过深的树\n",
    "\n",
    "链接：https://www.jianshu.com/p/1100e333fcab\n"
   ]
  },
  {
   "cell_type": "markdown",
   "metadata": {},
   "source": [
    "### LightGBM的例子"
   ]
  },
  {
   "cell_type": "code",
   "execution_count": 8,
   "metadata": {},
   "outputs": [],
   "source": [
    "other_params = {'learning_rate': 0.1, 'n_estimators': 500, 'max_depth': 5, 'min_child_weight': 1, 'seed': 0,\n",
    "                    'subsample': 0.8, 'colsample_bytree': 0.8, 'gamma': 0, 'reg_alpha': 0, 'reg_lambda': 1}"
   ]
  },
  {
   "cell_type": "code",
   "execution_count": 9,
   "metadata": {},
   "outputs": [],
   "source": [
    "model = lgb.LGBMRegressor(**other_params)  # lgb.LGBMClassifier"
   ]
  },
  {
   "cell_type": "code",
   "execution_count": 10,
   "metadata": {},
   "outputs": [
    {
     "name": "stdout",
     "output_type": "stream",
     "text": [
      "Fitting 5 folds for each of 5 candidates, totalling 25 fits\n"
     ]
    },
    {
     "name": "stderr",
     "output_type": "stream",
     "text": [
      "[Parallel(n_jobs=4)]: Done  25 out of  25 | elapsed:   14.2s finished\n"
     ]
    },
    {
     "name": "stdout",
     "output_type": "stream",
     "text": [
      "每轮迭代运行结果:[mean: 0.17986, std: 0.01637, params: {'n_estimators': 400}, mean: 0.17260, std: 0.01645, params: {'n_estimators': 500}, mean: 0.16424, std: 0.01798, params: {'n_estimators': 600}, mean: 0.15851, std: 0.01998, params: {'n_estimators': 700}, mean: 0.15323, std: 0.01958, params: {'n_estimators': 800}]\n",
      "参数的最佳取值：{'n_estimators': 400}\n",
      "最佳模型得分:0.17986297343575536\n"
     ]
    }
   ],
   "source": [
    "cv_params = {'n_estimators': [400, 500, 600, 700, 800]}\n",
    "optimized_GBM = GridSearchCV(estimator=model, param_grid=cv_params, scoring='r2', cv=5, verbose=1, n_jobs=4)\n",
    "optimized_GBM.fit(X_train, y_train)\n",
    "evalute_result = optimized_GBM.grid_scores_\n",
    "print('每轮迭代运行结果:{0}'.format(evalute_result))\n",
    "print('参数的最佳取值：{0}'.format(optimized_GBM.best_params_))\n",
    "print('最佳模型得分:{0}'.format(optimized_GBM.best_score_))"
   ]
  },
  {
   "cell_type": "markdown",
   "metadata": {},
   "source": [
    "### xgboost的例子"
   ]
  },
  {
   "cell_type": "code",
   "execution_count": 11,
   "metadata": {},
   "outputs": [
    {
     "ename": "NameError",
     "evalue": "name 'xgb' is not defined",
     "output_type": "error",
     "traceback": [
      "\u001b[1;31m---------------------------------------------------------------------------\u001b[0m",
      "\u001b[1;31mNameError\u001b[0m                                 Traceback (most recent call last)",
      "\u001b[1;32m<ipython-input-11-eaab31113344>\u001b[0m in \u001b[0;36m<module>\u001b[1;34m()\u001b[0m\n\u001b[0;32m      9\u001b[0m                     'subsample': 0.8, 'colsample_bytree': 0.8, 'gamma': 0, 'reg_alpha': 0, 'reg_lambda': 1}\n\u001b[0;32m     10\u001b[0m \u001b[1;33m\u001b[0m\u001b[0m\n\u001b[1;32m---> 11\u001b[1;33m \u001b[0mmodel\u001b[0m \u001b[1;33m=\u001b[0m \u001b[0mxgb\u001b[0m\u001b[1;33m.\u001b[0m\u001b[0mXGBRegressor\u001b[0m\u001b[1;33m(\u001b[0m\u001b[1;33m**\u001b[0m\u001b[0mother_params\u001b[0m\u001b[1;33m)\u001b[0m\u001b[1;33m\u001b[0m\u001b[0m\n\u001b[0m\u001b[0;32m     12\u001b[0m \u001b[0moptimized_GBM\u001b[0m \u001b[1;33m=\u001b[0m \u001b[0mGridSearchCV\u001b[0m\u001b[1;33m(\u001b[0m\u001b[0mestimator\u001b[0m\u001b[1;33m=\u001b[0m\u001b[0mmodel\u001b[0m\u001b[1;33m,\u001b[0m \u001b[0mparam_grid\u001b[0m\u001b[1;33m=\u001b[0m\u001b[0mcv_params\u001b[0m\u001b[1;33m,\u001b[0m \u001b[0mscoring\u001b[0m\u001b[1;33m=\u001b[0m\u001b[1;34m'r2'\u001b[0m\u001b[1;33m,\u001b[0m \u001b[0mcv\u001b[0m\u001b[1;33m=\u001b[0m\u001b[1;36m5\u001b[0m\u001b[1;33m,\u001b[0m \u001b[0mverbose\u001b[0m\u001b[1;33m=\u001b[0m\u001b[1;36m1\u001b[0m\u001b[1;33m,\u001b[0m \u001b[0mn_jobs\u001b[0m\u001b[1;33m=\u001b[0m\u001b[1;36m4\u001b[0m\u001b[1;33m)\u001b[0m\u001b[1;33m\u001b[0m\u001b[0m\n\u001b[0;32m     13\u001b[0m \u001b[0moptimized_GBM\u001b[0m\u001b[1;33m.\u001b[0m\u001b[0mfit\u001b[0m\u001b[1;33m(\u001b[0m\u001b[0mX_train\u001b[0m\u001b[1;33m,\u001b[0m \u001b[0my_train\u001b[0m\u001b[1;33m)\u001b[0m\u001b[1;33m\u001b[0m\u001b[0m\n",
      "\u001b[1;31mNameError\u001b[0m: name 'xgb' is not defined"
     ]
    }
   ],
   "source": [
    "# model_xgb = xgb.XGBRegressor(colsample_bytree=0.4603,gamma=0.0468,\n",
    "#                             learning_rate = 0.05,max_depth =3,\n",
    "#                             min_child_weight = 1.7817,n_estimators = 2200,\n",
    "#                             reg_alpha=0.4640,reg_lambda=0.8571,\n",
    "#                             subsample=0.5213,silent=1,nthread= -1)\n",
    "\n",
    "cv_params = {'n_estimators': [400, 500, 600, 700, 800]}\n",
    "other_params = {'learning_rate': 0.1, 'n_estimators': 500, 'max_depth': 5, 'min_child_weight': 1, 'seed': 0,\n",
    "                    'subsample': 0.8, 'colsample_bytree': 0.8, 'gamma': 0, 'reg_alpha': 0, 'reg_lambda': 1}\n",
    "\n",
    "model = xgb.XGBRegressor(**other_params)\n",
    "optimized_GBM = GridSearchCV(estimator=model, param_grid=cv_params, scoring='r2', cv=5, verbose=1, n_jobs=4)\n",
    "optimized_GBM.fit(X_train, y_train)\n",
    "evalute_result = optimized_GBM.grid_scores_\n",
    "print('每轮迭代运行结果:{0}'.format(evalute_result))\n",
    "print('参数的最佳取值：{0}'.format(optimized_GBM.best_params_))\n",
    "print('最佳模型得分:{0}'.format(optimized_GBM.best_score_))"
   ]
  }
 ],
 "metadata": {
  "kernelspec": {
   "display_name": "Python 3",
   "language": "python",
   "name": "python3"
  },
  "language_info": {
   "codemirror_mode": {
    "name": "ipython",
    "version": 3
   },
   "file_extension": ".py",
   "mimetype": "text/x-python",
   "name": "python",
   "nbconvert_exporter": "python",
   "pygments_lexer": "ipython3",
   "version": "3.6.6"
  }
 },
 "nbformat": 4,
 "nbformat_minor": 2
}
